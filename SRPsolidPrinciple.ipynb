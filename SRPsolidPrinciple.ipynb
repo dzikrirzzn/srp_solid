{
  "nbformat": 4,
  "nbformat_minor": 0,
  "metadata": {
    "colab": {
      "provenance": [],
      "authorship_tag": "ABX9TyOqLsEQk6kDB9qNBKyl4e+E",
      "include_colab_link": true
    },
    "kernelspec": {
      "name": "python3",
      "display_name": "Python 3"
    },
    "language_info": {
      "name": "python"
    }
  },
  "cells": [
    {
      "cell_type": "markdown",
      "metadata": {
        "id": "view-in-github",
        "colab_type": "text"
      },
      "source": [
        "<a href=\"https://colab.research.google.com/github/dzikrirzzn/srp_solid/blob/main/SRPsolidPrinciple.ipynb\" target=\"_parent\"><img src=\"https://colab.research.google.com/assets/colab-badge.svg\" alt=\"Open In Colab\"/></a>"
      ]
    },
    {
      "cell_type": "code",
      "execution_count": null,
      "metadata": {
        "colab": {
          "base_uri": "https://localhost:8080/"
        },
        "id": "cuipjYRMSPRx",
        "outputId": "016cea82-b29e-4756-e849-156678668eea"
      },
      "outputs": [
        {
          "output_type": "stream",
          "name": "stdout",
          "text": [
            "Order ID: 1\n",
            "Items:\n",
            " - Laptop: $1200\n",
            " - Mouse: $50\n",
            "Total Price: $1250\n"
          ]
        }
      ],
      "source": [
        "# order.py - Kelas untuk menangani data pesanan\n",
        "class Order:\n",
        "    def __init__(self, order_id, items, total_price):\n",
        "        self.order_id = order_id\n",
        "        self.items = items\n",
        "        self.total_price = total_price\n",
        "\n",
        "    def add_item(self, item):\n",
        "        self.items.append(item)\n",
        "        self.total_price += item.price\n",
        "\n",
        "    def remove_item(self, item):\n",
        "        self.items.remove(item)\n",
        "        self.total_price -= item.price\n",
        "\n",
        "# order_printer.py - Kelas untuk mencetak pesanan\n",
        "class OrderPrinter:\n",
        "    def __init__(self, order):\n",
        "        self.order = order\n",
        "\n",
        "    def print_order(self):\n",
        "        print(f\"Order ID: {self.order.order_id}\")\n",
        "        print(\"Items:\")\n",
        "        for item in self.order.items:\n",
        "            print(f\" - {item.name}: ${item.price}\")\n",
        "        print(f\"Total Price: ${self.order.total_price}\")\n",
        "\n",
        "# main.py - Contoh menjalankan program\n",
        "class Item:\n",
        "    def __init__(self, name, price):\n",
        "        self.name = name\n",
        "        self.price = price\n",
        "\n",
        "# Membuat beberapa item\n",
        "item1 = Item(\"Laptop\", 1200)\n",
        "item2 = Item(\"Mouse\", 50)\n",
        "\n",
        "# Membuat pesanan\n",
        "order = Order(1, [item1], item1.price)\n",
        "order.add_item(item2)\n",
        "\n",
        "# Mencetak pesanan menggunakan OrderPrinter\n",
        "printer = OrderPrinter(order)\n",
        "printer.print_order()\n"
      ]
    }
  ]
}